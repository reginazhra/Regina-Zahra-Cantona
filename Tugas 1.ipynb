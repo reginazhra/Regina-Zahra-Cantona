{
 "cells": [
  {
   "cell_type": "code",
   "execution_count": null,
   "metadata": {},
   "outputs": [],
   "source": [
    "import pandas as pd\n",
    "import numpy as np\n",
    "import matplotlib.pyplot as plt\n",
    "import seaborn as sns\n",
    "\n",
    "df = pd.read_csv(r\"c:\\archive\\heart_disease_uci.csv\")\n",
    "\n",
    "print (df.head())\n",
    "print (df.tail())"
   ]
  },
  {
   "cell_type": "code",
   "execution_count": null,
   "metadata": {},
   "outputs": [],
   "source": [
    "df.info()"
   ]
  },
  {
   "cell_type": "code",
   "execution_count": null,
   "metadata": {},
   "outputs": [],
   "source": [
    "df.isnull().sum()"
   ]
  },
  {
   "cell_type": "code",
   "execution_count": null,
   "metadata": {},
   "outputs": [],
   "source": [
    "df.describe()"
   ]
  },
  {
   "cell_type": "code",
   "execution_count": null,
   "metadata": {},
   "outputs": [],
   "source": [
    "mean_values = df.mean(numeric_only=True)\n",
    "print(mean_values)"
   ]
  },
  {
   "cell_type": "code",
   "execution_count": null,
   "metadata": {},
   "outputs": [],
   "source": [
    "mode_values = df.mode(numeric_only=True)\n",
    "print(mode_values)"
   ]
  },
  {
   "cell_type": "code",
   "execution_count": null,
   "metadata": {},
   "outputs": [],
   "source": [
    "stdv_values = df.std(numeric_only=True)\n",
    "print(stdv_values)"
   ]
  },
  {
   "cell_type": "code",
   "execution_count": null,
   "metadata": {},
   "outputs": [],
   "source": [
    "var_values = df.var(numeric_only=True)\n",
    "print(var_values)\n"
   ]
  },
  {
   "cell_type": "code",
   "execution_count": null,
   "metadata": {},
   "outputs": [],
   "source": [
    "skew_values = df.skew(numeric_only=True)\n",
    "print(skew_values)\n"
   ]
  },
  {
   "cell_type": "code",
   "execution_count": null,
   "metadata": {},
   "outputs": [],
   "source": [
    "kurt_values = df.kurt(numeric_only=True)\n",
    "print(kurt_values)\n"
   ]
  },
  {
   "cell_type": "code",
   "execution_count": null,
   "metadata": {},
   "outputs": [],
   "source": [
    "numeric_columns = df.select_dtypes(include = [np.number]).columns\n",
    "correlation_matrix = df [numeric_columns].corr()\n",
    "\n",
    "\n",
    "plt.figure(figsize=(12,10))\n",
    "sns.heatmap (correlation_matrix, annot = True,cmap='coolwarm', vmin=-1, vmax=1)\n",
    "plt.title('Correlation Matrix of Numeric Features')\n",
    "plt.show()\n"
   ]
  },
  {
   "cell_type": "code",
   "execution_count": null,
   "metadata": {},
   "outputs": [],
   "source": [
    "df.hist (bins= 30, figsize=(20,15))\n",
    "plt.show()\n"
   ]
  },
  {
   "cell_type": "code",
   "execution_count": null,
   "metadata": {},
   "outputs": [],
   "source": [
    "df.boxplot(figsize=(15, 10))\n",
    "plt.tight_layout()\n",
    "plt.show()\n"
   ]
  },
  {
   "cell_type": "code",
   "execution_count": null,
   "metadata": {},
   "outputs": [],
   "source": [
    "target_column = 'num'\n",
    "visualized_feature = ['age', 'trestbps', 'chol', 'thalch', 'oldpeak']\n",
    "\n",
    "sns.pairplot(df[visualized_feature + [target_column]], hue=target_column)\n",
    "plt.suptitle('Pair Plot untuk Fitur Utama', y=1.02)\n",
    "plt.show()\n",
    "\n",
    "fig, axes = plt.subplots(2, 2, figsize=(15, 15))\n",
    "axes = axes.ravel()\n",
    "\n",
    "for i, feature in enumerate(visualized_feature[:4]):\n",
    "    sns.scatterplot(data=df, x=feature, y='thalch', hue=target_column, ax=axes[i])\n",
    "    axes[i].set_title(f'{feature} vs thalch')\n",
    "\n",
    "plt.tight_layout()\n",
    "plt.show()"
   ]
  },
  {
   "cell_type": "code",
   "execution_count": null,
   "metadata": {},
   "outputs": [],
   "source": [
    "plt.figure(figsize=(12, 6))\n",
    "sns.boxplot(data=df)\n",
    "plt.xticks(rotation=90)\n",
    "plt.show()"
   ]
  },
  {
   "cell_type": "markdown",
   "metadata": {},
   "source": [
    "LAPORAN SINGKAT\n",
    "\n",
    "Data yang digunakan dalam analisis ini adalah dataset penyakit jantung yang diambil dari file `heart_disease_uci.csv`. Pertama, dilakukan pembacaan dan tampilan lima baris pertama serta lima baris terakhir untuk mendapatkan gambaran awal. Pemeriksaan lebih lanjut dengan `df.info()` memberikan informasi mengenai jumlah total entri, tipe data, dan jumlah nilai non-null di setiap kolom. Selanjutnya, dilakukan pengecekan terhadap nilai yang hilang (missing values) serta perhitungan statistik deskriptif menggunakan `df.describe()` untuk memahami distribusi data secara umum.\n",
    "\n",
    "Analisis statistik melibatkan perhitungan rata-rata (mean), modus (mode), standar deviasi, varians, skewness, dan kurtosis untuk semua kolom numerik. Ini memberikan wawasan mengenai kecenderungan sentral, penyebaran data, simetri distribusi, serta karakteristik ekor distribusi. Selain itu, matriks korelasi dihitung untuk mengidentifikasi hubungan antar fitur numerik, yang kemudian divisualisasikan dalam bentuk heatmap untuk memudahkan identifikasi pola korelasi yang kuat atau lemah.\n",
    "\n",
    "Visualisasi data lebih lanjut dilakukan dengan histogram untuk melihat distribusi fitur numerik, boxplot untuk mengidentifikasi outlier dan distribusi antar kuartil, serta scatter plot dan pairplot untuk mengeksplorasi hubungan antar fitur utama dengan target variabel `num`. Visualisasi ini memperkaya pemahaman terhadap distribusi data, potensi outlier, serta pola hubungan antar fitur yang mungkin relevan dalam analisis lebih lanjut. Secara keseluruhan, laporan ini memberikan dasar yang kuat untuk melanjutkan ke tahap analisis yang lebih mendalam atau pengembangan model prediktif terkait penyakit jantung."
   ]
  }
 ],
 "metadata": {
  "kernelspec": {
   "display_name": "Python 3",
   "language": "python",
   "name": "python3"
  },
  "language_info": {
   "codemirror_mode": {
    "name": "ipython",
    "version": 3
   },
   "file_extension": ".py",
   "mimetype": "text/x-python",
   "name": "python",
   "nbconvert_exporter": "python",
   "pygments_lexer": "ipython3",
   "version": "3.11.9"
  }
 },
 "nbformat": 4,
 "nbformat_minor": 2
}
